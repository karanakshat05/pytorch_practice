{
  "nbformat": 4,
  "nbformat_minor": 0,
  "metadata": {
    "colab": {
      "provenance": [],
      "gpuType": "T4"
    },
    "kernelspec": {
      "name": "python3",
      "display_name": "Python 3"
    },
    "language_info": {
      "name": "python"
    },
    "accelerator": "GPU"
  },
  "cells": [
    {
      "cell_type": "code",
      "execution_count": 1,
      "metadata": {
        "colab": {
          "base_uri": "https://localhost:8080/"
        },
        "id": "Ym72W3aQY4l0",
        "outputId": "6703ccc0-8f62-4281-f9de-9e687f91fa2d"
      },
      "outputs": [
        {
          "output_type": "stream",
          "name": "stdout",
          "text": [
            "Mon Dec 16 15:33:25 2024       \n",
            "+---------------------------------------------------------------------------------------+\n",
            "| NVIDIA-SMI 535.104.05             Driver Version: 535.104.05   CUDA Version: 12.2     |\n",
            "|-----------------------------------------+----------------------+----------------------+\n",
            "| GPU  Name                 Persistence-M | Bus-Id        Disp.A | Volatile Uncorr. ECC |\n",
            "| Fan  Temp   Perf          Pwr:Usage/Cap |         Memory-Usage | GPU-Util  Compute M. |\n",
            "|                                         |                      |               MIG M. |\n",
            "|=========================================+======================+======================|\n",
            "|   0  Tesla T4                       Off | 00000000:00:04.0 Off |                    0 |\n",
            "| N/A   38C    P8               9W /  70W |      0MiB / 15360MiB |      0%      Default |\n",
            "|                                         |                      |                  N/A |\n",
            "+-----------------------------------------+----------------------+----------------------+\n",
            "                                                                                         \n",
            "+---------------------------------------------------------------------------------------+\n",
            "| Processes:                                                                            |\n",
            "|  GPU   GI   CI        PID   Type   Process name                            GPU Memory |\n",
            "|        ID   ID                                                             Usage      |\n",
            "|=======================================================================================|\n",
            "|  No running processes found                                                           |\n",
            "+---------------------------------------------------------------------------------------+\n"
          ]
        }
      ],
      "source": [
        "!nvidia-smi"
      ]
    },
    {
      "cell_type": "code",
      "source": [
        "import numpy as np\n",
        "import torch\n",
        "import time\n"
      ],
      "metadata": {
        "id": "zRNreRKmZseK"
      },
      "execution_count": 2,
      "outputs": []
    },
    {
      "cell_type": "code",
      "source": [
        "matrix_size=1000\n",
        "start_time_np =time.time()\n",
        "\n",
        "numpy_matrix1 = np.random.rand(matrix_size,matrix_size)\n",
        "numpy_matrix2 = np.random.rand(matrix_size,matrix_size)\n",
        "# matrix multiplication by np.dot\n",
        "numpy_result= np.dot(numpy_matrix1,numpy_matrix2)\n",
        "\n",
        "end_time_np=time.time()\n",
        "numpy_processing_time= end_time_np - start_time_np\n",
        "print(f\"NUmpy processing time: {numpy_processing_time:.6f} seconds.\")"
      ],
      "metadata": {
        "colab": {
          "base_uri": "https://localhost:8080/"
        },
        "id": "YPAGPQpMdBWr",
        "outputId": "284c7fdc-413a-4d51-bbb2-3e3a964c5b58"
      },
      "execution_count": 3,
      "outputs": [
        {
          "output_type": "stream",
          "name": "stdout",
          "text": [
            "NUmpy processing time: 0.088185 seconds.\n"
          ]
        }
      ]
    },
    {
      "cell_type": "code",
      "source": [
        "start_time_torch =time.time()\n",
        "\n",
        "torch_tensor1= torch.rand(matrix_size,matrix_size)\n",
        "torch_tensor2= torch.rand(matrix_size,matrix_size)\n",
        "if torch.cuda.is_available():\n",
        "  print(\"cuda is available\")\n",
        "  torch_tensor1=torch_tensor1.cuda()\n",
        "  torch_tensor2=torch_tensor2.cuda()\n",
        "else:\n",
        "  print(\"cuda not available\")\n",
        "\n",
        "torch_result=torch.mm(torch_tensor1, torch_tensor2)\n",
        "end_time_torch =time.time()\n",
        "torch_processing_time=end_time_torch - start_time_torch\n",
        "print(f\"Torchprocessing time: {torch_processing_time:.6f} seconds.\")\n",
        "\n"
      ],
      "metadata": {
        "colab": {
          "base_uri": "https://localhost:8080/"
        },
        "id": "Cw1QyUcMF6VM",
        "outputId": "37ffeb7e-523b-407a-9f43-64f7af6085f5"
      },
      "execution_count": 6,
      "outputs": [
        {
          "output_type": "stream",
          "name": "stdout",
          "text": [
            "cuda is available\n",
            "Torchprocessing time: 0.023306 seconds.\n"
          ]
        }
      ]
    }
  ]
}